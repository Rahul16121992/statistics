{
 "cells": [
  {
   "cell_type": "markdown",
   "id": "6e855236",
   "metadata": {},
   "source": [
    "# “Statistics is the grammar of science.” Karl Pearson"
   ]
  },
  {
   "cell_type": "code",
   "execution_count": null,
   "id": "7a72b6b7",
   "metadata": {},
   "outputs": [],
   "source": []
  },
  {
   "cell_type": "markdown",
   "id": "6c830075",
   "metadata": {},
   "source": [
    "# What is Statistics?"
   ]
  },
  {
   "cell_type": "markdown",
   "id": "7d88e2f8",
   "metadata": {},
   "source": [
    "statistics concerns the collection of data, organisation, interpretation, analysis and data presentation. "
   ]
  },
  {
   "cell_type": "markdown",
   "id": "083a2ace",
   "metadata": {},
   "source": [
    "Statistics is considered a mathematical science that works with numerical data. In short, statistics is a crucial process which helps to make the decision based on the data."
   ]
  },
  {
   "cell_type": "markdown",
   "id": "c1fd83d1",
   "metadata": {},
   "source": [
    "# Statistics Example\n",
    "An example of statistical analysis is when we have to determine the number of people in a town who watch TV out of the total population in the town. The small group of people is called the sample here, which is taken from the population. "
   ]
  },
  {
   "cell_type": "markdown",
   "id": "00f5ee83",
   "metadata": {},
   "source": [
    "# The two main branches of statistics are:\n",
    "\n",
    "1. Descriptive Statistics\n",
    "2. Inferential Statistics\n",
    "\n",
    "Descriptive Statistics – Through graphs or tables, or numerical calculations, descriptive statistics uses the data to provide descriptions of the population.\n",
    "\n",
    "Inferential Statistics – Based on the data sample taken from the population, inferential statistics makes the predictions and inferences."
   ]
  },
  {
   "cell_type": "markdown",
   "id": "8fb1ae4c",
   "metadata": {},
   "source": [
    "# Characteristics of Statistics\n",
    "\n",
    "The important characteristics of Statistics are as follows:\n",
    "\n",
    "1. Statistics are numerically expressed.\n",
    "2. It has an aggregate of facts\n",
    "3. Data are collected in systematic order\n",
    "4. It should be comparable to each other\n",
    "5. Data are collected for a planned purpose"
   ]
  },
  {
   "cell_type": "markdown",
   "id": "d6329c66",
   "metadata": {},
   "source": [
    "# Importance of Statistics\n",
    "The important functions of statistics are:\n",
    "\n",
    "Statistics helps in gathering information about the appropriate quantitative data\n",
    "1. It depicts the complex data in graphical form, tabular form and in diagrammatic representation to understand it easily\n",
    "2. It provides the exact description and a better understanding\n",
    "3. It helps in designing the effective and proper planning of the statistical inquiry in any field\n",
    "4. It gives valid inferences with the reliability measures about the population parameters from the sample data\n",
    "5. It helps to understand the variability pattern through the quantitative observations"
   ]
  },
  {
   "cell_type": "markdown",
   "id": "4ca439df",
   "metadata": {},
   "source": [
    "# There are two types of Descriptive Statistics:\n",
    "\n",
    "1. The measure of central tendency\n",
    "2. Measure of Variability"
   ]
  },
  {
   "cell_type": "code",
   "execution_count": null,
   "id": "ef468e83",
   "metadata": {},
   "outputs": [],
   "source": []
  },
  {
   "cell_type": "markdown",
   "id": "1448c8a3",
   "metadata": {},
   "source": [
    "# Measure of Central Tendency\n",
    "The measure of central tendency is a single value that attempts to describe the whole set of data. There are three main features of central tendency:\n",
    "\n",
    "1. Mean\n",
    "2. Median\n",
    "3. Mode"
   ]
  },
  {
   "cell_type": "markdown",
   "id": "2fdddbd0",
   "metadata": {},
   "source": [
    "# Mean\n",
    "It is the sum of observations divided by the total number of observations. It is also defined as average which is the sum divided by count. "
   ]
  },
  {
   "cell_type": "code",
   "execution_count": 2,
   "id": "45022e13",
   "metadata": {},
   "outputs": [
    {
     "name": "stdout",
     "output_type": "stream",
     "text": [
      "The average of list values is : 2\n"
     ]
    }
   ],
   "source": [
    "\n",
    "# Python code to demonstrate the working of\n",
    "# mean()\n",
    " \n",
    "# importing statistics to handle statistical\n",
    "# operations\n",
    "import statistics\n",
    " \n",
    "# initializing list\n",
    "List = [1, 2, 3, 3, 2, 2, 2, 1]\n",
    " \n",
    "# using mean() to calculate average of list\n",
    "# elements\n",
    "print (\"The average of list values is : \",end=\"\")\n",
    "print (statistics.mean(List))"
   ]
  },
  {
   "cell_type": "code",
   "execution_count": null,
   "id": "08265ead",
   "metadata": {},
   "outputs": [],
   "source": []
  },
  {
   "cell_type": "markdown",
   "id": "b12296e6",
   "metadata": {},
   "source": [
    "# Median\n",
    "It is the middle value of the data set. It splits the data into two halves"
   ]
  },
  {
   "cell_type": "markdown",
   "id": "47c17c57",
   "metadata": {},
   "source": [
    "If the number of elements in the data set is odd then the center element is the median and if it is even then the median would be the average of two central elements."
   ]
  },
  {
   "cell_type": "code",
   "execution_count": 3,
   "id": "621ab62c",
   "metadata": {},
   "outputs": [],
   "source": [
    "# importing the statistics module\n",
    "from statistics import median"
   ]
  },
  {
   "cell_type": "code",
   "execution_count": 4,
   "id": "fa00a85e",
   "metadata": {},
   "outputs": [],
   "source": [
    "data1 = (2, 3, 4, 5, 7, 9, 11)"
   ]
  },
  {
   "cell_type": "code",
   "execution_count": 5,
   "id": "e9e33ee9",
   "metadata": {},
   "outputs": [
    {
     "name": "stdout",
     "output_type": "stream",
     "text": [
      "5\n"
     ]
    }
   ],
   "source": [
    "print(median(data1))"
   ]
  },
  {
   "cell_type": "code",
   "execution_count": 6,
   "id": "d8c5e9db",
   "metadata": {},
   "outputs": [
    {
     "name": "stdout",
     "output_type": "stream",
     "text": [
      "5.9\n"
     ]
    }
   ],
   "source": [
    "data2 = (2.4, 5.1, 6.7, 8.9)\n",
    "print(median(data2))"
   ]
  },
  {
   "cell_type": "markdown",
   "id": "daf578be",
   "metadata": {},
   "source": [
    "# Mode\n",
    "It is the value that has the highest frequency in the given data set. "
   ]
  },
  {
   "cell_type": "code",
   "execution_count": 7,
   "id": "7d321f8a",
   "metadata": {},
   "outputs": [],
   "source": [
    "from statistics import mode"
   ]
  },
  {
   "cell_type": "code",
   "execution_count": 10,
   "id": "ee0bd1df",
   "metadata": {},
   "outputs": [
    {
     "name": "stdout",
     "output_type": "stream",
     "text": [
      "5\n"
     ]
    }
   ],
   "source": [
    "data_1 = (2, 3, 3, 4, 5, 5, 5, 5, 6,6,7)\n",
    "print(mode(data_1))"
   ]
  },
  {
   "cell_type": "code",
   "execution_count": 11,
   "id": "cc7575b0",
   "metadata": {},
   "outputs": [
    {
     "name": "stdout",
     "output_type": "stream",
     "text": [
      "black\n"
     ]
    }
   ],
   "source": [
    "data_2 = (\"red\", \"blue\", \"black\", \"blue\", \"black\", \"black\", \"brown\")\n",
    "print(mode(data_2))"
   ]
  },
  {
   "cell_type": "code",
   "execution_count": null,
   "id": "feab8a23",
   "metadata": {},
   "outputs": [],
   "source": []
  },
  {
   "cell_type": "markdown",
   "id": "bbc88476",
   "metadata": {},
   "source": [
    "# Measure of Variability"
   ]
  },
  {
   "cell_type": "markdown",
   "id": "21db08c1",
   "metadata": {},
   "source": [
    "The measure of variability is known as the spread of data or how well our data is distributed. The most common variability measures are:\n",
    "\n",
    "1. Range\n",
    "2. Variance\n",
    "3. Standard deviation"
   ]
  },
  {
   "cell_type": "markdown",
   "id": "9a11bf95",
   "metadata": {},
   "source": [
    "# Range\n",
    "The difference between the largest and smallest data point in our data set is known as the range. The range is directly proportional to the spread of data which means the bigger the range, the more the spread of data and vice versa."
   ]
  },
  {
   "cell_type": "markdown",
   "id": "2b0d41bd",
   "metadata": {},
   "source": [
    "Range = Largest data value – smallest data value"
   ]
  },
  {
   "cell_type": "markdown",
   "id": "987dd74d",
   "metadata": {},
   "source": [
    "We can calculate the maximum and minimum values using the max() and min() methods respectively."
   ]
  },
  {
   "cell_type": "code",
   "execution_count": 18,
   "id": "c42ce702",
   "metadata": {},
   "outputs": [
    {
     "name": "stdout",
     "output_type": "stream",
     "text": [
      "The Maximum no. is : 5\n",
      "The Minimum no. is : 1\n",
      "The Range is : 4\n"
     ]
    }
   ],
   "source": [
    "# Sample Data\n",
    "arr = [1, 2, 3, 4, 5]\n",
    " \n",
    "#Finding Max\n",
    "Maximum = max(arr)\n",
    "print(\"The Maximum no. is :\",Maximum)\n",
    "\n",
    "# Finding Min\n",
    "Minimum = min(arr)\n",
    "print(\"The Minimum no. is :\",Minimum)\n",
    "\n",
    "Range = Maximum-Minimum \n",
    "\n",
    "print(\"The Range is :\",Range)"
   ]
  },
  {
   "cell_type": "code",
   "execution_count": null,
   "id": "30453bd8",
   "metadata": {},
   "outputs": [],
   "source": []
  },
  {
   "cell_type": "markdown",
   "id": "a454da83",
   "metadata": {},
   "source": [
    "# Variance\n",
    "\n",
    "The variance is a measure of variability. It is calculated by taking the average of squared deviations from the mean."
   ]
  },
  {
   "cell_type": "markdown",
   "id": "7163fe87",
   "metadata": {},
   "source": [
    "Variance tells you the degree of spread in your data set. The more spread the data, the larger the variance is in relation to the mean."
   ]
  },
  {
   "attachments": {
    "vari.svg": {
     "image/svg+xml": [
      "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"
     ]
    }
   },
   "cell_type": "markdown",
   "id": "2449275a",
   "metadata": {},
   "source": [
    "![vari.svg](attachment:vari.svg)"
   ]
  },
  {
   "cell_type": "markdown",
   "id": "e9662aa6",
   "metadata": {},
   "source": [
    "where N = number of terms\n",
    "\n",
    "u = Mean"
   ]
  },
  {
   "cell_type": "code",
   "execution_count": 19,
   "id": "d304ab4c",
   "metadata": {},
   "outputs": [
    {
     "name": "stdout",
     "output_type": "stream",
     "text": [
      "15.80952380952381\n"
     ]
    }
   ],
   "source": [
    "# Python code to demonstrate variance()\n",
    "\n",
    "from statistics import variance\n",
    "\n",
    "sample1 = (1, 2, 5, 4, 8, 9, 12)\n",
    "\n",
    "print(variance(sample1))"
   ]
  },
  {
   "cell_type": "markdown",
   "id": "3e0b589d",
   "metadata": {},
   "source": [
    "# Standard Deviation\n",
    "It is defined as the square root of the variance. \n",
    "It is calculated by finding the Mean, then subtracting each number from the Mean which is also known as the average, and squaring the result. Adding all the values and then dividing by the no of terms followed by the square root."
   ]
  },
  {
   "attachments": {
    "sd.svg": {
     "image/svg+xml": [
      "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"
     ]
    }
   },
   "cell_type": "markdown",
   "id": "5fad23fe",
   "metadata": {},
   "source": [
    "![sd.svg](attachment:sd.svg)"
   ]
  },
  {
   "cell_type": "markdown",
   "id": "8d7f55d5",
   "metadata": {},
   "source": [
    "where N = number of terms\n",
    "\n",
    "u = Mean"
   ]
  },
  {
   "cell_type": "code",
   "execution_count": 20,
   "id": "a3ca7b3d",
   "metadata": {},
   "outputs": [
    {
     "name": "stdout",
     "output_type": "stream",
     "text": [
      "3.9761191895520196\n"
     ]
    }
   ],
   "source": [
    "from statistics import stdev\n",
    "\n",
    "sample = (1, 2, 5, 4, 8, 9, 12)\n",
    "\n",
    "print(stdev(sample))"
   ]
  },
  {
   "cell_type": "code",
   "execution_count": null,
   "id": "cae1423f",
   "metadata": {},
   "outputs": [],
   "source": []
  }
 ],
 "metadata": {
  "kernelspec": {
   "display_name": "Python 3 (ipykernel)",
   "language": "python",
   "name": "python3"
  },
  "language_info": {
   "codemirror_mode": {
    "name": "ipython",
    "version": 3
   },
   "file_extension": ".py",
   "mimetype": "text/x-python",
   "name": "python",
   "nbconvert_exporter": "python",
   "pygments_lexer": "ipython3",
   "version": "3.10.9"
  }
 },
 "nbformat": 4,
 "nbformat_minor": 5
}
